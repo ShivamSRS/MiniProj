{
  "nbformat": 4,
  "nbformat_minor": 0,
  "metadata": {
    "colab": {
      "name": "dc_tts.ipynb",
      "provenance": [],
      "toc_visible": true,
      "include_colab_link": true
    },
    "kernelspec": {
      "name": "python3",
      "display_name": "Python 3"
    },
    "accelerator": "GPU"
  },
  "cells": [
    {
      "cell_type": "markdown",
      "metadata": {
        "id": "view-in-github",
        "colab_type": "text"
      },
      "source": [
        "<a href=\"https://colab.research.google.com/github/ShivamSRS/MiniProj/blob/master/dc_tts.ipynb\" target=\"_parent\"><img src=\"https://colab.research.google.com/assets/colab-badge.svg\" alt=\"Open In Colab\"/></a>"
      ]
    },
    {
      "cell_type": "code",
      "metadata": {
        "id": "jTaOg2x97l_j",
        "colab_type": "code",
        "colab": {}
      },
      "source": [
        "!nvidia-smi"
      ],
      "execution_count": null,
      "outputs": []
    },
    {
      "cell_type": "code",
      "metadata": {
        "id": "ULaMLZDWEQOG",
        "colab_type": "code",
        "colab": {}
      },
      "source": [
        "!git clone https://github.com/Rakshit-Shetty/dc_tts.git"
      ],
      "execution_count": null,
      "outputs": []
    },
    {
      "cell_type": "code",
      "metadata": {
        "id": "x_IZu3WfEUoH",
        "colab_type": "code",
        "colab": {}
      },
      "source": [
        "!cp \"/content/drive/My Drive/LJ_logdirs/LJ_logdir.zip\" .\n",
        "!cp \"/content/drive/My Drive/LJ_logdirs/HM.zip\" .\n",
        "!unzip -qq 'LJ_logdir.zip' -d '/content/'\n",
        "!unzip -qq 'HM.zip' -d '/content/LJAudio'"
      ],
      "execution_count": null,
      "outputs": []
    },
    {
      "cell_type": "code",
      "metadata": {
        "id": "q_jKOz-pzSKw",
        "colab_type": "code",
        "colab": {}
      },
      "source": [
        "!cp \"/content/drive/My Drive/HM_logdir.zip\" .\n",
        "!unzip -qq 'HM_logdir.zip' -d '/content/'"
      ],
      "execution_count": null,
      "outputs": []
    },
    {
      "cell_type": "code",
      "metadata": {
        "id": "DWp5cefvFSbL",
        "colab_type": "code",
        "colab": {}
      },
      "source": [
        "%cd /content/dc_tts"
      ],
      "execution_count": null,
      "outputs": []
    },
    {
      "cell_type": "code",
      "metadata": {
        "id": "Abxi59shFTvU",
        "colab_type": "code",
        "colab": {}
      },
      "source": [
        "%tensorflow_version 1.x\n",
        "!python prepo.py"
      ],
      "execution_count": null,
      "outputs": []
    },
    {
      "cell_type": "code",
      "metadata": {
        "id": "VQOVakYVFfLN",
        "colab_type": "code",
        "colab": {}
      },
      "source": [
        "%reload_ext tensorboard\n",
        "%tensorboard --logdir /content/LJ_logdir/LJ01-2"
      ],
      "execution_count": null,
      "outputs": []
    },
    {
      "cell_type": "code",
      "metadata": {
        "id": "SXgNNAgpFjvp",
        "colab_type": "code",
        "colab": {}
      },
      "source": [
        "%tensorflow_version 1.x\n",
        "!python train.py 1"
      ],
      "execution_count": null,
      "outputs": []
    },
    {
      "cell_type": "code",
      "metadata": {
        "id": "Hi7Yjq1mTivs",
        "colab_type": "code",
        "colab": {}
      },
      "source": [
        "%tensorflow_version 1.x\n",
        "!python synthesize.py"
      ],
      "execution_count": null,
      "outputs": []
    },
    {
      "cell_type": "code",
      "metadata": {
        "id": "cDK-oQY-Tk3E",
        "colab_type": "code",
        "colab": {}
      },
      "source": [
        "!python train.py 2"
      ],
      "execution_count": null,
      "outputs": []
    },
    {
      "cell_type": "code",
      "metadata": {
        "id": "J99uG6vSTnYP",
        "colab_type": "code",
        "colab": {}
      },
      "source": [
        "!zip -qq -r samples.zip samples"
      ],
      "execution_count": null,
      "outputs": []
    },
    {
      "cell_type": "code",
      "metadata": {
        "id": "QWQNHwC7wE_n",
        "colab_type": "code",
        "colab": {}
      },
      "source": [
        "%cd ..\n",
        "!zip -qq -r HM_logdir.zip LJ_logdir"
      ],
      "execution_count": null,
      "outputs": []
    },
    {
      "cell_type": "code",
      "metadata": {
        "id": "QtHzgxLjwQy1",
        "colab_type": "code",
        "colab": {}
      },
      "source": [
        "!cp HM_logdir.zip \"/content/drive/My Drive\""
      ],
      "execution_count": null,
      "outputs": []
    }
  ]
}