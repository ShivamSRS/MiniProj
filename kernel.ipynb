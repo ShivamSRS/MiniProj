{
  "cells": [
    {
      "metadata": {
        "_cell_guid": "68deb0f5-658f-401f-8010-ce6654702b84",
        "_uuid": "655d85f3898397e980e66d516e556ffe1caa24ed"
      },
      "cell_type": "markdown",
      "source": "\n\nA cameraman offers a service that scans photographs and slides to store them digitally.  He uses a machine that quickly scans many photos. But depending on the orientation of the original photo, many images are digitized sideways.  He currently spends a lot of time looking find which photos need to be rotated sideways, so he can fix them.\n\nIt would save him a lot of time if this process could be automated.  we will build a model that distinguishes which photos are sideways and which are upright.\n\nIf we were going to sell this service commercially, you might use a large dataset to train the model. But we'll have great success with even a small dataset.  We'll work with a small dataset of dog pictures, half of which are rotated sideways.\n\n"
    },
    {
      "metadata": {
        "_cell_guid": "896b4b37-28d6-419b-b0f7-bca8f57fbae8",
        "_uuid": "faf25f5fafd8ce5797eb8e42a7dfca1f612f12bb",
        "trusted": true
      },
      "cell_type": "code",
      "source": "from tensorflow.python.keras.applications import ResNet50\nfrom tensorflow.python.keras.models import Sequential\nfrom tensorflow.python.keras.layers import Dense, Flatten, GlobalAveragePooling2D\n\n# num_classes is the number of categories your model chooses between for each prediction\nnum_classes = 2\nresnet_weights_path = '../input/resnet50/resnet50_weights_tf_dim_ordering_tf_kernels_notop.h5'\n\nmy_new_model = Sequential()\nmy_new_model.add(ResNet50(include_top=False, pooling='avg', weights=resnet_weights_path))\nmy_new_model.add(Dense(num_classes, activation='softmax'))\n\n# dont train the resnet50, only our last layers must be trained.\nmy_new_model.layers[0].trainable = False",
      "execution_count": 1,
      "outputs": []
    },
    {
      "metadata": {
        "_cell_guid": "6e3132a9-5f28-41c2-b416-78c99992b7d2",
        "_uuid": "1e062093cdfb78e5f9993cdc357567bda7756992"
      },
      "cell_type": "markdown",
      "source": "# 2) Compile the Model\n"
    },
    {
      "metadata": {
        "_cell_guid": "52fbd3c7-f972-47f2-abea-bec4c77f92fb",
        "_uuid": "682c3dc3f971065af0e4838abc39c185c945079e",
        "trusted": true
      },
      "cell_type": "code",
      "source": "# We are calling the compile command \nmy_new_model.compile(optimizer='sgd', loss='categorical_crossentropy', metrics=['accuracy'])",
      "execution_count": 2,
      "outputs": []
    },
    {
      "metadata": {
        "_cell_guid": "90824461-8efb-43bc-880c-5b8727d8926d",
        "_uuid": "d4d04e7c88fce6008906dd792d4ba3dea7104fe9"
      },
      "cell_type": "markdown",
      "source": "# 3) Fit Model\n\n**Your training data is in the directory `../input/dogs-gone-sideways/images/train`. The validation data is in `../input/dogs-gone-sideways/images/val`**.  setting up `train_generator` and `validation_generator`.\n\nYou have 220 images of training data and 217 of validation data.  For the training generator, choose a batch size of 10.\n"
    },
    {
      "metadata": {
        "_cell_guid": "df8f85bb-e996-4385-819b-82a1a5466f95",
        "_uuid": "c04e80557ccb3ba95f91aba84f157b7079ac2330",
        "trusted": true
      },
      "cell_type": "code",
      "source": "from tensorflow.python.keras.applications.resnet50 import preprocess_input\nfrom tensorflow.python.keras.preprocessing.image import ImageDataGenerator\n\nimage_size = 224\ndata_generator = ImageDataGenerator(preprocess_input)\n\ntrain_generator = data_generator.flow_from_directory(\n        directory =\"../input/dogs-gone-sideways/images/train\",\n        target_size=(image_size, image_size),\n        batch_size=4,\n        class_mode='categorical')\n\nvalidation_generator = data_generator.flow_from_directory(\n        directory = \"../input/dogs-gone-sideways/images/val\",\n        target_size=(image_size, image_size),\n        class_mode='categorical')\n\nmy_new_model.fit_generator(\n        train_generator,\n        steps_per_epoch=55,\n        validation_data=validation_generator,\n        validation_steps=1)",
      "execution_count": 4,
      "outputs": [
        {
          "output_type": "stream",
          "text": "Found 220 images belonging to 2 classes.\nFound 217 images belonging to 2 classes.\nEpoch 1/1\n55/55 [==============================] - 4s 68ms/step - loss: 0.2264 - acc: 0.9364 - val_loss: 0.0762 - val_acc: 0.9688\n",
          "name": "stdout"
        },
        {
          "output_type": "execute_result",
          "execution_count": 4,
          "data": {
            "text/plain": "<tensorflow.python.keras.callbacks.History at 0x7f06aee7fda0>"
          },
          "metadata": {}
        }
      ]
    },
    {
      "metadata": {
        "_cell_guid": "cf797cc7-4117-4bc5-b68d-a060cffa8683",
        "_uuid": "11bd32dc0546117d2ff3f6d2a1b1041ff6cdfc10"
      },
      "cell_type": "markdown",
      "source": "\n"
    }
  ],
  "metadata": {
    "kernelspec": {
      "display_name": "Python 3",
      "language": "python",
      "name": "python3"
    },
    "language_info": {
      "name": "python",
      "version": "3.6.6",
      "mimetype": "text/x-python",
      "codemirror_mode": {
        "name": "ipython",
        "version": 3
      },
      "pygments_lexer": "ipython3",
      "nbconvert_exporter": "python",
      "file_extension": ".py"
    }
  },
  "nbformat": 4,
  "nbformat_minor": 1
}